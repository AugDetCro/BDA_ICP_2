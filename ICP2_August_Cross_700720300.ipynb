{
  "nbformat": 4,
  "nbformat_minor": 0,
  "metadata": {
    "colab": {
      "provenance": []
    },
    "kernelspec": {
      "name": "python3",
      "display_name": "Python 3"
    },
    "language_info": {
      "name": "python"
    }
  },
  "cells": [
    {
      "cell_type": "markdown",
      "source": [
        "# Question 1: Consider the following code snippet:"
      ],
      "metadata": {
        "id": "GCS6oJVRqaIY"
      }
    },
    {
      "cell_type": "code",
      "source": [
        "class Counter:\n",
        "  count = 0\n",
        "\n",
        "  def __init__(self):\n",
        "    self._count = 0\n",
        "\n",
        "  def increment(self):\n",
        "    self._count += 1\n",
        "    Counter.count += 1\n",
        "\n",
        "  def get_counts(self):\n",
        "    return f\"instance count: {self._count}, class count: {Counter.count}\"\n",
        "\n",
        "\n",
        "a = Counter()\n",
        "b = Counter()\n",
        "\n",
        "a.increment()\n",
        "a.increment()\n",
        "b.increment()\n",
        "\n",
        "print(a.get_counts())\n",
        "print(b.get_counts())"
      ],
      "metadata": {
        "colab": {
          "base_uri": "https://localhost:8080/"
        },
        "id": "ziYw4t_4rJfT",
        "outputId": "574d3cc1-7c18-447a-b0c7-1331a31b3800"
      },
      "execution_count": 1,
      "outputs": [
        {
          "output_type": "stream",
          "name": "stdout",
          "text": [
            "instance count: 2, class count: 3\n",
            "instance count: 1, class count: 3\n"
          ]
        }
      ]
    },
    {
      "cell_type": "markdown",
      "source": [
        "\n",
        "\n",
        "*   The difference between Counter.count and self._count is that Counter.count increments as a **global variable,** where self._count is **not a global variable.** The important difference is that Counter.count counts **how many times the class has been used**, where self._count counts **how many times a specific object has been counted.**\n",
        "*   As seen above, the output from a.get_counts() is \"instance count: 2, class count: 3\", where b.get_counts() is \"instance count: 1, class count: 3\"\n",
        "*   As mentioned in the first bullet, the increment method interacts with the method through maintaining a global variabl that permeates through uses. Ideally, its output will always be the same after all \"increments\" have been executed. The instance variables are like local variables, and they are separated from one another. The instance count of \"a\" and \"b\" are two totally different pieces of data, thus, printed seperately."
      ],
      "metadata": {
        "id": "TjwQsYaXrwa0"
      }
    },
    {
      "cell_type": "markdown",
      "source": [
        "# Question 2: Find and remove the bug form the code to obtain the given output."
      ],
      "metadata": {
        "id": "PcyVvV_UtUJi"
      }
    },
    {
      "cell_type": "code",
      "source": [
        "# \"Broken\" Code:\n",
        "\n",
        "def sum_all(args):\n",
        "  return sum(args)\n",
        "\n",
        "print(\"Sum of 1, 2, 3 is:\", sum_all(1, 2, 3))\n",
        "print(\"Sum of 4, 5, 6, 7 is:\", sum_all(4, 5, 6, 7))\n",
        "\n",
        "# Desired output:\n",
        "\n",
        "# Sum of 1, 2, 3 is: 6\n",
        "# Sum of 4, 5, 6, 7 is: 22"
      ],
      "metadata": {
        "colab": {
          "base_uri": "https://localhost:8080/",
          "height": 193
        },
        "id": "OHPd_21RtbSJ",
        "outputId": "71a8bf2e-2041-45d2-e1f7-84048fc9330c"
      },
      "execution_count": 2,
      "outputs": [
        {
          "output_type": "error",
          "ename": "TypeError",
          "evalue": "sum_all() takes 1 positional argument but 3 were given",
          "traceback": [
            "\u001b[0;31m---------------------------------------------------------------------------\u001b[0m",
            "\u001b[0;31mTypeError\u001b[0m                                 Traceback (most recent call last)",
            "\u001b[0;32m<ipython-input-2-65ca1fadbe93>\u001b[0m in \u001b[0;36m<cell line: 6>\u001b[0;34m()\u001b[0m\n\u001b[1;32m      4\u001b[0m   \u001b[0;32mreturn\u001b[0m \u001b[0msum\u001b[0m\u001b[0;34m(\u001b[0m\u001b[0margs\u001b[0m\u001b[0;34m)\u001b[0m\u001b[0;34m\u001b[0m\u001b[0;34m\u001b[0m\u001b[0m\n\u001b[1;32m      5\u001b[0m \u001b[0;34m\u001b[0m\u001b[0m\n\u001b[0;32m----> 6\u001b[0;31m \u001b[0mprint\u001b[0m\u001b[0;34m(\u001b[0m\u001b[0;34m\"Sum of 1, 2, 3 is:\"\u001b[0m\u001b[0;34m,\u001b[0m \u001b[0msum_all\u001b[0m\u001b[0;34m(\u001b[0m\u001b[0;36m1\u001b[0m\u001b[0;34m,\u001b[0m \u001b[0;36m2\u001b[0m\u001b[0;34m,\u001b[0m \u001b[0;36m3\u001b[0m\u001b[0;34m)\u001b[0m\u001b[0;34m)\u001b[0m\u001b[0;34m\u001b[0m\u001b[0;34m\u001b[0m\u001b[0m\n\u001b[0m\u001b[1;32m      7\u001b[0m \u001b[0mprint\u001b[0m\u001b[0;34m(\u001b[0m\u001b[0;34m\"Sum of 4, 5, 6, 7 is:\"\u001b[0m\u001b[0;34m,\u001b[0m \u001b[0msum_all\u001b[0m\u001b[0;34m(\u001b[0m\u001b[0;36m4\u001b[0m\u001b[0;34m,\u001b[0m \u001b[0;36m5\u001b[0m\u001b[0;34m,\u001b[0m \u001b[0;36m6\u001b[0m\u001b[0;34m,\u001b[0m \u001b[0;36m7\u001b[0m\u001b[0;34m)\u001b[0m\u001b[0;34m)\u001b[0m\u001b[0;34m\u001b[0m\u001b[0;34m\u001b[0m\u001b[0m\n",
            "\u001b[0;31mTypeError\u001b[0m: sum_all() takes 1 positional argument but 3 were given"
          ]
        }
      ]
    },
    {
      "cell_type": "code",
      "source": [
        "# Fixed Code:\n",
        "\n",
        "def sum_all(*args):\n",
        "  return sum(args)\n",
        "\n",
        "print(\"Sum of 1, 2, 3 is:\", sum_all(1, 2, 3))\n",
        "print(\"Sum of 4, 5, 6, 7 is:\", sum_all(4, 5, 6, 7))\n",
        "\n",
        "# Desired output:\n",
        "\n",
        "# Sum of 1, 2, 3 is: 6\n",
        "# Sum of 4, 5, 6, 7 is: 22"
      ],
      "metadata": {
        "colab": {
          "base_uri": "https://localhost:8080/"
        },
        "id": "QFvJYlZSt2By",
        "outputId": "f4b133d6-e292-4acb-cfff-2810d5b58f87"
      },
      "execution_count": 3,
      "outputs": [
        {
          "output_type": "stream",
          "name": "stdout",
          "text": [
            "Sum of 1, 2, 3 is: 6\n",
            "Sum of 4, 5, 6, 7 is: 22\n"
          ]
        }
      ]
    },
    {
      "cell_type": "markdown",
      "source": [
        "# Question 3: Write a Function..."
      ],
      "metadata": {
        "id": "Aru7t7wZuWhk"
      }
    },
    {
      "cell_type": "markdown",
      "source": [
        "Write a function called first_word that takes a list of character strings as input and returns the first element of the list in alphabetical order. For example, your function should work like this:\n",
        "\n",
        "students = ['Mary', 'Zelda', 'Jimmy', 'Jack', 'Bartholomew', 'Gertrude'] ***(Input)***\n",
        "\n",
        "first_word(students) ***(Function)***\n",
        "\n",
        "'Bartholomew' ***(Output)***"
      ],
      "metadata": {
        "id": "vTMWHFxvvQ4F"
      }
    },
    {
      "cell_type": "code",
      "source": [
        "# Intake the input of 'students'\n",
        "\n",
        "students = ['Mary', 'Zelda', 'Jimmy', 'Jack', 'Bartholomew', 'Gertrude']\n",
        "\n",
        "# Define the function\n",
        "\n",
        "def first_word(students_list):\n",
        "  new_list = students_list\n",
        "  new_list.sort()\n",
        "  return new_list[0]\n",
        "\n",
        "# Print the output\n",
        "\n",
        "print(first_word(students))"
      ],
      "metadata": {
        "colab": {
          "base_uri": "https://localhost:8080/"
        },
        "id": "dIL10oGCvKss",
        "outputId": "120d09b1-70ca-47c2-9d3b-12fc661c2fba"
      },
      "execution_count": 9,
      "outputs": [
        {
          "output_type": "stream",
          "name": "stdout",
          "text": [
            "Bartholomew\n"
          ]
        }
      ]
    },
    {
      "cell_type": "markdown",
      "source": [
        "# Question 4: Create an Employee class"
      ],
      "metadata": {
        "id": "J2B_G_Siwic9"
      }
    },
    {
      "cell_type": "markdown",
      "source": [
        "The class needs to do the following:\n",
        "\n",
        "\n",
        "*   Create a data member to count the number of Employees\n",
        "*   Create a constructor to initialize name, family, salary, department\n",
        "*   Create a function to average salary\n",
        "*   Create a Fulltime Employee class and it should inherit the properties of Employee class\n",
        "*   Create the instances of Fulltime Employee class and Employee class and call their member functions.\n",
        "\n"
      ],
      "metadata": {
        "id": "MEUvaOcHwxsN"
      }
    },
    {
      "cell_type": "code",
      "source": [
        "# Construct the Class itself\n",
        "\n",
        "class Employee:\n",
        "  count = 0\n",
        "\n",
        "  # Define characteristics of an Employee\n",
        "  def __init__(self, name, family, salary, department):\n",
        "    self.name = name\n",
        "    self.family = family\n",
        "    self.salary = salary\n",
        "    self.department = department\n",
        "    Employee.count += 1\n",
        "\n",
        "  # Define the average salary function\n",
        "  def average_salary(*employees):\n",
        "    averaged_salary = 0\n",
        "    number_of_employees = len(employees)\n",
        "    for employee in employees:\n",
        "      averaged_salary += employee.salary\n",
        "    return averaged_salary / number_of_employees\n",
        "\n",
        "  def print_info(self):\n",
        "    print(self.name, self.family, self.salary, self.department)\n",
        "\n",
        "class Fulltime_Employee(Employee):\n",
        "  count = 0\n",
        "\n",
        "  # Define the characteristics of a Fulltime Employee, inheriting Employee class properties\n",
        "  def __init__(self, name, family, salary, department, tenure, office_number):\n",
        "    self.tenure = bool(tenure)\n",
        "    self.office_number = office_number\n",
        "    super().__init__(name, family, salary, department)\n",
        "    Fulltime_Employee.count += 1\n",
        "\n",
        "  def print_info(self):\n",
        "    print(self.name, self.family, self.salary, self.department, self.tenure, self.office_number)\n",
        "\n",
        "employee_a = Employee('August', 'Cross', 60000, 'Secretary')\n",
        "employee_b = Fulltime_Employee('Joseph', 'Hartman', 120000, 'Historian', True, 156)\n",
        "\n",
        "employee_a.print_info()\n",
        "employee_b.print_info()\n",
        "\n",
        "print(Employee.count)\n",
        "print(Fulltime_Employee.count)\n",
        "print(Employee.average_salary(employee_a, employee_b))"
      ],
      "metadata": {
        "colab": {
          "base_uri": "https://localhost:8080/"
        },
        "id": "clRNNS4N3Zwi",
        "outputId": "2a2a20a2-9a66-4f93-9d80-abd7db57aa50"
      },
      "execution_count": 18,
      "outputs": [
        {
          "output_type": "stream",
          "name": "stdout",
          "text": [
            "August Cross 60000 Secretary\n",
            "Joseph Hartman 120000 Historian True 156\n",
            "2\n",
            "1\n",
            "90000.0\n"
          ]
        }
      ]
    }
  ]
}